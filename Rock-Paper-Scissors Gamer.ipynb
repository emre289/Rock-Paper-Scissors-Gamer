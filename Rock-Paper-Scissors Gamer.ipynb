{
 "cells": [
  {
   "cell_type": "code",
   "execution_count": 1,
   "id": "22327354",
   "metadata": {},
   "outputs": [
    {
     "name": "stdout",
     "output_type": "stream",
     "text": [
      "How Many Times Do You Want to Play With Me 😊: 4\n",
      "1 .GAME\n",
      "First User: scissors chose\n",
      "Second User: rock chose\n",
      "Second Gamer won\n",
      "\n",
      "2 .GAME\n",
      "First User: paper chose\n",
      "Second User: rock chose\n",
      "First Gamer Won\n",
      "\n",
      "3 .GAME\n",
      "First User: paper chose\n",
      "Second User: rock chose\n",
      "First Gamer Won\n",
      "\n",
      "4 .GAME\n",
      "First User: paper chose\n",
      "Second User: rock chose\n",
      "First Gamer Won\n",
      "\n"
     ]
    }
   ],
   "source": [
    "import random\n",
    "game=[\"rock\",\"paper\",\"scissors\"]\n",
    "gameRight=int(input(\"How Many Times Do You Want to Play With Me 😊: \"))\n",
    "i=0\n",
    "while i<gameRight:\n",
    "    firstGamer=random.choice(game)\n",
    "    secondGamer=random.choice(game)\n",
    "\n",
    "    print(i+1,\".GAME\")\n",
    "    print(f\"First User: {firstGamer} chose\")\n",
    "    print(f\"Second User: {secondGamer} chose\")\n",
    "    \n",
    "    if firstGamer==\"rock\" and secondGamer==\"scissors\":\n",
    "        print(\"First Gamer Won\\n\")\n",
    "\n",
    "    elif firstGamer==\"scissors\" and secondGamer==\"rock\":\n",
    "        print(\"Second Gamer won\\n\")\n",
    "\n",
    "    elif firstGamer==\"scissors\" and secondGamer==\"paper\":\n",
    "        print(\"First Gamer Won\\n\")\n",
    "\n",
    "    elif firstGamer==\"paper\" and secondGamer==\"scissors\":\n",
    "        print(\"Second Gamer won\\n\")\n",
    "\n",
    "    elif firstGamer==\"paper\" and secondGamer==\"rock\":\n",
    "        print(\"First Gamer Won\\n\")\n",
    "\n",
    "    elif firstGamer==\"rock\" and secondGamer==\"paper\":\n",
    "        print(\"Second Gamer Won\\n\")\n",
    "\n",
    "    else:\n",
    "        print(\"NO ONE WON\\n\")\n",
    "    i+=1"
   ]
  },
  {
   "cell_type": "code",
   "execution_count": null,
   "id": "95be52ec",
   "metadata": {},
   "outputs": [],
   "source": []
  }
 ],
 "metadata": {
  "kernelspec": {
   "display_name": "Python 3 (ipykernel)",
   "language": "python",
   "name": "python3"
  },
  "language_info": {
   "codemirror_mode": {
    "name": "ipython",
    "version": 3
   },
   "file_extension": ".py",
   "mimetype": "text/x-python",
   "name": "python",
   "nbconvert_exporter": "python",
   "pygments_lexer": "ipython3",
   "version": "3.9.7"
  }
 },
 "nbformat": 4,
 "nbformat_minor": 5
}
